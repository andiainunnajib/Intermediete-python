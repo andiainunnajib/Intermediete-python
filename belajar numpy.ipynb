{
 "cells": [
  {
   "cell_type": "code",
   "execution_count": 1,
   "id": "d4fc314b",
   "metadata": {},
   "outputs": [],
   "source": [
    "import numpy as np"
   ]
  },
  {
   "cell_type": "code",
   "execution_count": null,
   "id": "d7a06f98",
   "metadata": {},
   "outputs": [],
   "source": []
  },
  {
   "cell_type": "code",
   "execution_count": null,
   "id": "fca4e5e8",
   "metadata": {},
   "outputs": [],
   "source": [
    "#array adalah sebuah matrix 1 dimensi dan dua dimenasi"
   ]
  },
  {
   "cell_type": "code",
   "execution_count": null,
   "id": "30aae271",
   "metadata": {},
   "outputs": [],
   "source": []
  },
  {
   "cell_type": "code",
   "execution_count": null,
   "id": "6719fa65",
   "metadata": {},
   "outputs": [],
   "source": [
    "angka = [1,2,3]"
   ]
  },
  {
   "cell_type": "code",
   "execution_count": null,
   "id": "b9590da5",
   "metadata": {},
   "outputs": [],
   "source": [
    "angkanp = np.array(angka)"
   ]
  },
  {
   "cell_type": "code",
   "execution_count": null,
   "id": "d2620015",
   "metadata": {},
   "outputs": [],
   "source": [
    "angkanp"
   ]
  },
  {
   "cell_type": "code",
   "execution_count": null,
   "id": "550ea3cb",
   "metadata": {},
   "outputs": [],
   "source": [
    "angka*3 #hasilnya bakalan nampilin 3 kali"
   ]
  },
  {
   "cell_type": "code",
   "execution_count": null,
   "id": "aa85a0cc",
   "metadata": {},
   "outputs": [],
   "source": [
    "#kita mau yang didalam mdi kali 3, jadi vektor 1 dimensi\n",
    "angkanp*3"
   ]
  },
  {
   "cell_type": "code",
   "execution_count": 12,
   "id": "810f9a68",
   "metadata": {},
   "outputs": [
    {
     "data": {
      "text/plain": [
       "[[1, 2, 3], [4, 5, 6], [7, 8, 8]]"
      ]
     },
     "execution_count": 12,
     "metadata": {},
     "output_type": "execute_result"
    }
   ],
   "source": [
    "versilist = [[1,2,3],[4,5,6],[7,8,8]] #cuma menampilkan list of list bukan sebuah matrix\n",
    "versilist"
   ]
  },
  {
   "cell_type": "code",
   "execution_count": 13,
   "id": "8aa99f41",
   "metadata": {},
   "outputs": [
    {
     "data": {
      "text/plain": [
       "array([[1, 2, 3],\n",
       "       [4, 5, 6],\n",
       "       [7, 8, 8]])"
      ]
     },
     "execution_count": 13,
     "metadata": {},
     "output_type": "execute_result"
    }
   ],
   "source": [
    "versinumpy = np.array(versilist) #untuk menampilkan matrix menggunakan numpy\n",
    "versinumpy"
   ]
  },
  {
   "cell_type": "code",
   "execution_count": 16,
   "id": "58f54c70",
   "metadata": {},
   "outputs": [
    {
     "data": {
      "text/plain": [
       "array([0, 1, 2, 3, 4, 5, 6, 7, 8, 9])"
      ]
     },
     "execution_count": 16,
     "metadata": {},
     "output_type": "execute_result"
    }
   ],
   "source": [
    "#mencreate dimana angka 1 dan angka terakhir\n",
    "np.arange(0,10)"
   ]
  },
  {
   "cell_type": "code",
   "execution_count": 18,
   "id": "15e41dc0",
   "metadata": {},
   "outputs": [
    {
     "data": {
      "text/plain": [
       "array([ 0,  2,  4,  6,  8, 10, 12, 14, 16, 18])"
      ]
     },
     "execution_count": 18,
     "metadata": {},
     "output_type": "execute_result"
    }
   ],
   "source": [
    "#MEMBERIKAN jarak antara array\n",
    "np.arange(0,20,2)"
   ]
  },
  {
   "cell_type": "code",
   "execution_count": 19,
   "id": "934c7fd8",
   "metadata": {},
   "outputs": [
    {
     "data": {
      "text/plain": [
       "array([0., 0., 0., 0., 0.])"
      ]
     },
     "execution_count": 19,
     "metadata": {},
     "output_type": "execute_result"
    }
   ],
   "source": [
    "np.zeros(5) #megenerate array 0 sebnayak 5 angka"
   ]
  },
  {
   "cell_type": "code",
   "execution_count": 20,
   "id": "4de29d35",
   "metadata": {},
   "outputs": [
    {
     "data": {
      "text/plain": [
       "array([[0., 0., 0., 0.],\n",
       "       [0., 0., 0., 0.]])"
      ]
     },
     "execution_count": 20,
     "metadata": {},
     "output_type": "execute_result"
    }
   ],
   "source": [
    "#matrix ddua dimensi\n",
    "np.zeros((2,4)) #tuple"
   ]
  },
  {
   "cell_type": "code",
   "execution_count": 21,
   "id": "279b9559",
   "metadata": {},
   "outputs": [
    {
     "data": {
      "text/plain": [
       "array([1., 1., 1., 1., 1.])"
      ]
     },
     "execution_count": 21,
     "metadata": {},
     "output_type": "execute_result"
    }
   ],
   "source": [
    "#memvbangkitkan angka 1\n",
    "np.ones(5)"
   ]
  },
  {
   "cell_type": "code",
   "execution_count": 22,
   "id": "717dd89c",
   "metadata": {},
   "outputs": [
    {
     "data": {
      "text/plain": [
       "array([[1., 1., 1., 1., 1.],\n",
       "       [1., 1., 1., 1., 1.]])"
      ]
     },
     "execution_count": 22,
     "metadata": {},
     "output_type": "execute_result"
    }
   ],
   "source": [
    "np.ones((2,5))"
   ]
  },
  {
   "cell_type": "code",
   "execution_count": 23,
   "id": "8ec38ecc",
   "metadata": {
    "scrolled": true
   },
   "outputs": [
    {
     "data": {
      "text/plain": [
       "array([0.        , 0.88888889, 1.77777778, 2.66666667, 3.55555556,\n",
       "       4.44444444, 5.33333333, 6.22222222, 7.11111111, 8.        ])"
      ]
     },
     "execution_count": 23,
     "metadata": {},
     "output_type": "execute_result"
    }
   ],
   "source": [
    "np.linspace(0,8,10) #membuat array dari 0 sampai 8 dipecah , klo linspacce 8 dimasukkan/dipecah sebanyak 10 pecahan jarak angkaa satu dan selanjutnya sama"
   ]
  },
  {
   "cell_type": "markdown",
   "id": "bedb0c8d",
   "metadata": {},
   "source": [
    "# Matriks identity"
   ]
  },
  {
   "cell_type": "code",
   "execution_count": 24,
   "id": "b2c23eb8",
   "metadata": {},
   "outputs": [
    {
     "data": {
      "text/plain": [
       "array([[1., 0., 0., 0., 0.],\n",
       "       [0., 1., 0., 0., 0.],\n",
       "       [0., 0., 1., 0., 0.],\n",
       "       [0., 0., 0., 1., 0.],\n",
       "       [0., 0., 0., 0., 1.]])"
      ]
     },
     "execution_count": 24,
     "metadata": {},
     "output_type": "execute_result"
    }
   ],
   "source": [
    "np.eye(5)"
   ]
  },
  {
   "cell_type": "code",
   "execution_count": 25,
   "id": "c851281d",
   "metadata": {},
   "outputs": [
    {
     "data": {
      "text/plain": [
       "array([[1., 0., 0.],\n",
       "       [0., 1., 0.],\n",
       "       [0., 0., 1.]])"
      ]
     },
     "execution_count": 25,
     "metadata": {},
     "output_type": "execute_result"
    }
   ],
   "source": [
    "np.eye(3)"
   ]
  },
  {
   "cell_type": "markdown",
   "id": "8297caf0",
   "metadata": {},
   "source": [
    "# Distribusi uniform"
   ]
  },
  {
   "cell_type": "code",
   "execution_count": 26,
   "id": "a5b32a66",
   "metadata": {},
   "outputs": [
    {
     "data": {
      "text/plain": [
       "array([0.24991947, 0.68035884, 0.53061561, 0.63520496, 0.16564386,\n",
       "       0.91401094, 0.42826563])"
      ]
     },
     "execution_count": 26,
     "metadata": {},
     "output_type": "execute_result"
    }
   ],
   "source": [
    "# bilangan distribusi uniform (0-1)\n",
    "np.random.rand(7)"
   ]
  },
  {
   "cell_type": "code",
   "execution_count": 27,
   "id": "371389af",
   "metadata": {},
   "outputs": [
    {
     "data": {
      "text/plain": [
       "array([[0.86479784, 0.71705451, 0.53957126, 0.43902011],\n",
       "       [0.552034  , 0.76505133, 0.14115633, 0.00462639],\n",
       "       [0.98529324, 0.39471027, 0.38816878, 0.40316273],\n",
       "       [0.87632271, 0.96607969, 0.82841188, 0.23424081],\n",
       "       [0.20905066, 0.11666109, 0.46625904, 0.6375017 ]])"
      ]
     },
     "execution_count": 27,
     "metadata": {},
     "output_type": "execute_result"
    }
   ],
   "source": [
    "# bilangan distribusi unfotrm (0-1) pada matriks 2 dimensi\n",
    "np.random.rand(5,4) #5 baris 4 kolom"
   ]
  },
  {
   "cell_type": "code",
   "execution_count": 29,
   "id": "b1e2b5c0",
   "metadata": {},
   "outputs": [
    {
     "data": {
      "text/plain": [
       "array([-1.32738687, -0.87221184, -0.60558686,  1.37836455,  0.6209224 ,\n",
       "       -0.36178722, -1.75217043, -0.50538962, -1.16462173,  0.60836997])"
      ]
     },
     "execution_count": 29,
     "metadata": {},
     "output_type": "execute_result"
    }
   ],
   "source": [
    "#distribusi normal (gausssian) takhingga sampai tankl hingga\n",
    "np.random.randn(10)"
   ]
  },
  {
   "cell_type": "code",
   "execution_count": 30,
   "id": "d96a4db8",
   "metadata": {},
   "outputs": [
    {
     "data": {
      "text/plain": [
       "array([[ 0.2635791 ,  0.17327917,  0.40767983, -0.77818636],\n",
       "       [-2.69508518, -0.53006823,  1.19365695,  0.0226909 ],\n",
       "       [ 0.2419266 , -1.24077664,  1.35314038,  0.57438296],\n",
       "       [-0.69486777,  0.34072527, -2.68757401,  1.57747746]])"
      ]
     },
     "execution_count": 30,
     "metadata": {},
     "output_type": "execute_result"
    }
   ],
   "source": [
    "# bilangan distribusi normal gaussioan taknhinnga dua dimensi\n",
    "np.random.randn(4,4)"
   ]
  },
  {
   "cell_type": "code",
   "execution_count": 3,
   "id": "50de0c3d",
   "metadata": {},
   "outputs": [],
   "source": [
    "#cara lebih gampangnya langsung importr saja\n",
    "from numpy.random import randn, randint"
   ]
  },
  {
   "cell_type": "code",
   "execution_count": 33,
   "id": "164dd6a6",
   "metadata": {},
   "outputs": [
    {
     "data": {
      "text/plain": [
       "array([[ 0.50305332,  0.95826571, -0.47840914],\n",
       "       [-0.6768637 ,  0.8507021 ,  0.24062694],\n",
       "       [-0.2109353 , -2.29033094,  0.61356276],\n",
       "       [ 0.89494514,  0.39044417, -0.58191921],\n",
       "       [-0.19610795, -1.30506811, -0.00330317],\n",
       "       [ 0.32590792, -0.48368009,  0.36435803]])"
      ]
     },
     "execution_count": 33,
     "metadata": {},
     "output_type": "execute_result"
    }
   ],
   "source": [
    "randn(6,3) #tidak usah tulis depannya lagi"
   ]
  },
  {
   "cell_type": "code",
   "execution_count": 37,
   "id": "035a90ac",
   "metadata": {},
   "outputs": [
    {
     "data": {
      "text/plain": [
       "15"
      ]
     },
     "execution_count": 37,
     "metadata": {},
     "output_type": "execute_result"
    }
   ],
   "source": [
    "randint(0,20)"
   ]
  },
  {
   "cell_type": "code",
   "execution_count": 39,
   "id": "d572b4de",
   "metadata": {},
   "outputs": [
    {
     "data": {
      "text/plain": [
       "array([6, 0])"
      ]
     },
     "execution_count": 39,
     "metadata": {},
     "output_type": "execute_result"
    }
   ],
   "source": [
    "randint(0,10,2)"
   ]
  },
  {
   "cell_type": "code",
   "execution_count": 41,
   "id": "38b6236c",
   "metadata": {},
   "outputs": [
    {
     "data": {
      "text/plain": [
       "array([93, 52, 93, 65, 36, 21,  4, 70, 54, 77, 74, 50, 54, 76, 69, 17, 24,\n",
       "       42, 69, 62])"
      ]
     },
     "execution_count": 41,
     "metadata": {},
     "output_type": "execute_result"
    }
   ],
   "source": [
    "bilangan = randint(0,100,20)\n",
    "bilangan"
   ]
  },
  {
   "cell_type": "code",
   "execution_count": 42,
   "id": "2ff30b34",
   "metadata": {},
   "outputs": [
    {
     "ename": "ValueError",
     "evalue": "cannot reshape array of size 20 into shape (2,1)",
     "output_type": "error",
     "traceback": [
      "\u001b[1;31m---------------------------------------------------------------------------\u001b[0m",
      "\u001b[1;31mValueError\u001b[0m                                Traceback (most recent call last)",
      "\u001b[1;32m<ipython-input-42-a9b2d91abd54>\u001b[0m in \u001b[0;36m<module>\u001b[1;34m\u001b[0m\n\u001b[0;32m      1\u001b[0m \u001b[1;31m#mengubah ukuran matriks haru pecahan dari 20 karena (0,100,20) karena jumlah angka 20 misal : 4x5\u001b[0m\u001b[1;33m\u001b[0m\u001b[1;33m\u001b[0m\u001b[1;33m\u001b[0m\u001b[0m\n\u001b[1;32m----> 2\u001b[1;33m \u001b[0mbilangan\u001b[0m\u001b[1;33m.\u001b[0m\u001b[0mreshape\u001b[0m\u001b[1;33m(\u001b[0m\u001b[1;36m2\u001b[0m\u001b[1;33m,\u001b[0m\u001b[1;36m1\u001b[0m\u001b[1;33m)\u001b[0m\u001b[1;33m\u001b[0m\u001b[1;33m\u001b[0m\u001b[0m\n\u001b[0m",
      "\u001b[1;31mValueError\u001b[0m: cannot reshape array of size 20 into shape (2,1)"
     ]
    }
   ],
   "source": [
    "#mengubah ukuran matriks haru pecahan dari 20 karena (0,100,20) karena jumlah angka 20 misal : 4x5\n",
    "bilangan.reshape(2,1)"
   ]
  },
  {
   "cell_type": "code",
   "execution_count": 43,
   "id": "24b5ef00",
   "metadata": {},
   "outputs": [
    {
     "data": {
      "text/plain": [
       "array([[93, 52, 93, 65, 36],\n",
       "       [21,  4, 70, 54, 77],\n",
       "       [74, 50, 54, 76, 69],\n",
       "       [17, 24, 42, 69, 62]])"
      ]
     },
     "execution_count": 43,
     "metadata": {},
     "output_type": "execute_result"
    }
   ],
   "source": [
    "bilangan.reshape(4,5)"
   ]
  },
  {
   "cell_type": "code",
   "execution_count": 1,
   "id": "d5ae0b20",
   "metadata": {},
   "outputs": [
    {
     "ename": "NameError",
     "evalue": "name 'randint' is not defined",
     "output_type": "error",
     "traceback": [
      "\u001b[1;31m---------------------------------------------------------------------------\u001b[0m",
      "\u001b[1;31mNameError\u001b[0m                                 Traceback (most recent call last)",
      "\u001b[1;32m<ipython-input-1-9199c54c99a3>\u001b[0m in \u001b[0;36m<module>\u001b[1;34m\u001b[0m\n\u001b[1;32m----> 1\u001b[1;33m \u001b[0mrandint\u001b[0m\u001b[1;33m(\u001b[0m\u001b[1;36m0\u001b[0m\u001b[1;33m,\u001b[0m\u001b[1;36m3\u001b[0m\u001b[1;33m,\u001b[0m\u001b[1;36m5\u001b[0m\u001b[1;33m)\u001b[0m\u001b[1;33m\u001b[0m\u001b[1;33m\u001b[0m\u001b[0m\n\u001b[0m",
      "\u001b[1;31mNameError\u001b[0m: name 'randint' is not defined"
     ]
    }
   ],
   "source": [
    "randint(0,3,5)"
   ]
  },
  {
   "cell_type": "code",
   "execution_count": 2,
   "id": "212d3585",
   "metadata": {},
   "outputs": [
    {
     "ename": "NameError",
     "evalue": "name 'randint' is not defined",
     "output_type": "error",
     "traceback": [
      "\u001b[1;31m---------------------------------------------------------------------------\u001b[0m",
      "\u001b[1;31mNameError\u001b[0m                                 Traceback (most recent call last)",
      "\u001b[1;32m<ipython-input-2-9199c54c99a3>\u001b[0m in \u001b[0;36m<module>\u001b[1;34m\u001b[0m\n\u001b[1;32m----> 1\u001b[1;33m \u001b[0mrandint\u001b[0m\u001b[1;33m(\u001b[0m\u001b[1;36m0\u001b[0m\u001b[1;33m,\u001b[0m\u001b[1;36m3\u001b[0m\u001b[1;33m,\u001b[0m\u001b[1;36m5\u001b[0m\u001b[1;33m)\u001b[0m\u001b[1;33m\u001b[0m\u001b[1;33m\u001b[0m\u001b[0m\n\u001b[0m",
      "\u001b[1;31mNameError\u001b[0m: name 'randint' is not defined"
     ]
    }
   ],
   "source": [
    "randint(0,3,5)"
   ]
  },
  {
   "cell_type": "code",
   "execution_count": 3,
   "id": "6c6a3498",
   "metadata": {},
   "outputs": [],
   "source": [
    "#cara lebih gampangnya langsung importr saja\n",
    "from numpy.random import randn, randint"
   ]
  },
  {
   "cell_type": "code",
   "execution_count": 4,
   "id": "a4121de5",
   "metadata": {},
   "outputs": [
    {
     "ename": "ModuleNotFoundError",
     "evalue": "No module named 'numpy'",
     "output_type": "error",
     "traceback": [
      "\u001b[1;31m---------------------------------------------------------------------------\u001b[0m",
      "\u001b[1;31mModuleNotFoundError\u001b[0m                       Traceback (most recent call last)",
      "\u001b[1;32m<ipython-input-4-0aa0b027fcb6>\u001b[0m in \u001b[0;36m<module>\u001b[1;34m\u001b[0m\n\u001b[1;32m----> 1\u001b[1;33m \u001b[1;32mimport\u001b[0m \u001b[0mnumpy\u001b[0m \u001b[1;32mas\u001b[0m \u001b[0mnp\u001b[0m\u001b[1;33m\u001b[0m\u001b[1;33m\u001b[0m\u001b[0m\n\u001b[0m",
      "\u001b[1;31mModuleNotFoundError\u001b[0m: No module named 'numpy'"
     ]
    }
   ],
   "source": []
  },
  {
   "cell_type": "code",
   "execution_count": 5,
   "id": "3466956a",
   "metadata": {},
   "outputs": [
    {
     "data": {
      "text/plain": [
       "array([[ 0.07941762,  0.81622465, -1.776645  ],\n",
       "       [ 0.92114589, -0.35563542, -1.75253706],\n",
       "       [ 0.13078537, -1.52569922,  0.22511947],\n",
       "       [-0.67395232, -0.41974592, -1.77297788],\n",
       "       [-0.77470158,  0.21172525,  0.61370385],\n",
       "       [ 0.7735769 ,  0.01065477,  0.75469284]])"
      ]
     },
     "execution_count": 5,
     "metadata": {},
     "output_type": "execute_result"
    }
   ],
   "source": [
    "randn(6,3)"
   ]
  },
  {
   "cell_type": "code",
   "execution_count": 7,
   "id": "a4f1f016",
   "metadata": {},
   "outputs": [
    {
     "data": {
      "text/plain": [
       "array([5, 3, 2, 5, 2, 5, 7, 8, 2, 1, 7, 4, 7, 0, 1, 4, 7, 2, 9, 2])"
      ]
     },
     "execution_count": 7,
     "metadata": {},
     "output_type": "execute_result"
    }
   ],
   "source": [
    "randint(0,10,20)"
   ]
  },
  {
   "cell_type": "code",
   "execution_count": 8,
   "id": "f7b39fe2",
   "metadata": {},
   "outputs": [
    {
     "data": {
      "text/plain": [
       "array([[5, 9, 1, 1, 8],\n",
       "       [7, 5, 0, 6, 6],\n",
       "       [6, 4, 6, 7, 3],\n",
       "       [6, 8, 1, 1, 6]])"
      ]
     },
     "execution_count": 8,
     "metadata": {},
     "output_type": "execute_result"
    }
   ],
   "source": [
    "coba = randint(0,10,20).reshape(4,5) #menggunakan 2 fungsi secara besamaan\n",
    "coba"
   ]
  },
  {
   "cell_type": "code",
   "execution_count": null,
   "id": "007f09a7",
   "metadata": {},
   "outputs": [],
   "source": []
  },
  {
   "cell_type": "code",
   "execution_count": null,
   "id": "056c4a12",
   "metadata": {},
   "outputs": [],
   "source": []
  },
  {
   "cell_type": "code",
   "execution_count": 4,
   "id": "4e4d4a46",
   "metadata": {},
   "outputs": [
    {
     "data": {
      "text/plain": [
       "array([0., 1., 2., 3., 4., 5., 6., 7., 8.])"
      ]
     },
     "execution_count": 4,
     "metadata": {},
     "output_type": "execute_result"
    }
   ],
   "source": [
    "np.linspace(0,8,9) #pemakaian tergantung mana"
   ]
  },
  {
   "cell_type": "code",
   "execution_count": 13,
   "id": "da623aca",
   "metadata": {},
   "outputs": [
    {
     "data": {
      "text/plain": [
       "9"
      ]
     },
     "execution_count": 13,
     "metadata": {},
     "output_type": "execute_result"
    }
   ],
   "source": [
    "coba.max()#menggutnakan fungsi/method max"
   ]
  },
  {
   "cell_type": "code",
   "execution_count": 14,
   "id": "ca341638",
   "metadata": {},
   "outputs": [
    {
     "data": {
      "text/plain": [
       "0"
      ]
     },
     "execution_count": 14,
     "metadata": {},
     "output_type": "execute_result"
    }
   ],
   "source": [
    "coba.min()"
   ]
  },
  {
   "cell_type": "code",
   "execution_count": 15,
   "id": "f6216a51",
   "metadata": {},
   "outputs": [
    {
     "data": {
      "text/plain": [
       "1"
      ]
     },
     "execution_count": 15,
     "metadata": {},
     "output_type": "execute_result"
    }
   ],
   "source": [
    "coba.argmax()"
   ]
  },
  {
   "cell_type": "code",
   "execution_count": 16,
   "id": "b0e098b6",
   "metadata": {},
   "outputs": [
    {
     "data": {
      "text/plain": [
       "7"
      ]
     },
     "execution_count": 16,
     "metadata": {},
     "output_type": "execute_result"
    }
   ],
   "source": [
    "coba.argmin()"
   ]
  },
  {
   "cell_type": "code",
   "execution_count": 18,
   "id": "92f4cc0f",
   "metadata": {},
   "outputs": [
    {
     "data": {
      "text/plain": [
       "array([7, 9, 1, 0, 1, 2, 8, 0, 3, 3, 1, 8, 1, 8, 7, 7, 1, 2, 5, 2])"
      ]
     },
     "execution_count": 18,
     "metadata": {},
     "output_type": "execute_result"
    }
   ],
   "source": [
    "coba1 = randint(0,10,20)\n",
    "coba1"
   ]
  },
  {
   "cell_type": "code",
   "execution_count": 20,
   "id": "2c763528",
   "metadata": {},
   "outputs": [
    {
     "data": {
      "text/plain": [
       "array([[6, 8, 2, 3, 8],\n",
       "       [4, 9, 9, 1, 6],\n",
       "       [5, 5, 7, 1, 5],\n",
       "       [2, 7, 5, 4, 2]])"
      ]
     },
     "execution_count": 20,
     "metadata": {},
     "output_type": "execute_result"
    }
   ],
   "source": [
    "coba2 = randint (0,10,20).reshape(4,5)\n",
    "coba2"
   ]
  },
  {
   "cell_type": "code",
   "execution_count": 21,
   "id": "24570973",
   "metadata": {},
   "outputs": [
    {
     "data": {
      "text/plain": [
       "9"
      ]
     },
     "execution_count": 21,
     "metadata": {},
     "output_type": "execute_result"
    }
   ],
   "source": [
    "coba1.max() #mengurutkan dari depan nilai tertinggi yang pertaman yaitu 9"
   ]
  },
  {
   "cell_type": "code",
   "execution_count": 22,
   "id": "5a0c4d9f",
   "metadata": {},
   "outputs": [
    {
     "data": {
      "text/plain": [
       "9"
      ]
     },
     "execution_count": 22,
     "metadata": {},
     "output_type": "execute_result"
    }
   ],
   "source": [
    "coba2.max()"
   ]
  },
  {
   "cell_type": "code",
   "execution_count": 23,
   "id": "4a2603ce",
   "metadata": {},
   "outputs": [
    {
     "data": {
      "text/plain": [
       "0"
      ]
     },
     "execution_count": 23,
     "metadata": {},
     "output_type": "execute_result"
    }
   ],
   "source": [
    "coba1.min() #angka perama yaitu 0 min"
   ]
  },
  {
   "cell_type": "code",
   "execution_count": 24,
   "id": "1b2a966f",
   "metadata": {},
   "outputs": [
    {
     "data": {
      "text/plain": [
       "1"
      ]
     },
     "execution_count": 24,
     "metadata": {},
     "output_type": "execute_result"
    }
   ],
   "source": [
    "coba2.min()"
   ]
  },
  {
   "cell_type": "code",
   "execution_count": 25,
   "id": "de561562",
   "metadata": {},
   "outputs": [
    {
     "data": {
      "text/plain": [
       "(20,)"
      ]
     },
     "execution_count": 25,
     "metadata": {},
     "output_type": "execute_result"
    }
   ],
   "source": [
    "coba1.shape #menggunakai satu dimensi"
   ]
  },
  {
   "cell_type": "code",
   "execution_count": 26,
   "id": "3b553cb4",
   "metadata": {},
   "outputs": [
    {
     "data": {
      "text/plain": [
       "(4, 5)"
      ]
     },
     "execution_count": 26,
     "metadata": {},
     "output_type": "execute_result"
    }
   ],
   "source": [
    "coba2.shape #menggunakan dua dimensi"
   ]
  },
  {
   "cell_type": "code",
   "execution_count": 28,
   "id": "79987a18",
   "metadata": {},
   "outputs": [
    {
     "data": {
      "text/plain": [
       "dtype('int32')"
      ]
     },
     "execution_count": 28,
     "metadata": {},
     "output_type": "execute_result"
    }
   ],
   "source": [
    "coba1.dtype #mencari tipe"
   ]
  },
  {
   "cell_type": "markdown",
   "id": "98854114",
   "metadata": {},
   "source": [
    "# Indexing pada Numpy"
   ]
  },
  {
   "cell_type": "code",
   "execution_count": 52,
   "id": "c3d5a116",
   "metadata": {},
   "outputs": [
    {
     "data": {
      "text/plain": [
       "array([ 0,  1,  2,  3,  4,  5,  6,  7,  8,  9, 10])"
      ]
     },
     "execution_count": 52,
     "metadata": {},
     "output_type": "execute_result"
    }
   ],
   "source": [
    "indexing = np.arange(0,11)\n",
    "indexing"
   ]
  },
  {
   "cell_type": "code",
   "execution_count": 53,
   "id": "c759ab0d",
   "metadata": {},
   "outputs": [
    {
     "data": {
      "text/plain": [
       "6"
      ]
     },
     "execution_count": 53,
     "metadata": {},
     "output_type": "execute_result"
    }
   ],
   "source": [
    "indexing[6]"
   ]
  },
  {
   "cell_type": "code",
   "execution_count": 54,
   "id": "1ef1aaa6",
   "metadata": {},
   "outputs": [
    {
     "data": {
      "text/plain": [
       "array([ 5,  6,  7,  8,  9, 10])"
      ]
     },
     "execution_count": 54,
     "metadata": {},
     "output_type": "execute_result"
    }
   ],
   "source": [
    "indexing[5:]"
   ]
  },
  {
   "cell_type": "code",
   "execution_count": 55,
   "id": "6cd3ad18",
   "metadata": {},
   "outputs": [
    {
     "data": {
      "text/plain": [
       "array([1, 2, 3])"
      ]
     },
     "execution_count": 55,
     "metadata": {},
     "output_type": "execute_result"
    }
   ],
   "source": [
    "indexing[1:4]"
   ]
  },
  {
   "cell_type": "code",
   "execution_count": 56,
   "id": "82579141",
   "metadata": {},
   "outputs": [
    {
     "data": {
      "text/plain": [
       "array([0, 1, 2, 3, 4, 5, 6, 7, 8])"
      ]
     },
     "execution_count": 56,
     "metadata": {},
     "output_type": "execute_result"
    }
   ],
   "source": [
    "indexing[:9]"
   ]
  },
  {
   "cell_type": "code",
   "execution_count": 57,
   "id": "f46729fa",
   "metadata": {},
   "outputs": [],
   "source": [
    "coba3 = indexing.copy() #bagaimana agar tidak merubah nilai yg lain caranya pake copy contoh:\n"
   ]
  },
  {
   "cell_type": "code",
   "execution_count": 58,
   "id": "d0947922",
   "metadata": {},
   "outputs": [
    {
     "data": {
      "text/plain": [
       "array([ 0,  1,  2,  3,  4,  5,  6,  7,  8,  9, 10])"
      ]
     },
     "execution_count": 58,
     "metadata": {},
     "output_type": "execute_result"
    }
   ],
   "source": [
    "coba3"
   ]
  },
  {
   "cell_type": "code",
   "execution_count": 63,
   "id": "aa9f51ef",
   "metadata": {},
   "outputs": [
    {
     "data": {
      "text/plain": [
       "array([100, 100, 100, 100, 100, 100, 100, 100, 100, 100, 100])"
      ]
     },
     "execution_count": 63,
     "metadata": {},
     "output_type": "execute_result"
    }
   ],
   "source": [
    "coba3[:]=100\n",
    "coba3\n"
   ]
  },
  {
   "cell_type": "code",
   "execution_count": 61,
   "id": "bf50b9c4",
   "metadata": {},
   "outputs": [
    {
     "data": {
      "text/plain": [
       "array([ 0,  1,  2,  3,  4,  5,  6,  7,  8,  9, 10])"
      ]
     },
     "execution_count": 61,
     "metadata": {},
     "output_type": "execute_result"
    }
   ],
   "source": [
    "indexing #kalau di numpy kalau kita ubah nilai indexing maka coba3 akan berubah juga tidak seperti pada python"
   ]
  },
  {
   "cell_type": "code",
   "execution_count": 64,
   "id": "4de80dba",
   "metadata": {},
   "outputs": [
    {
     "data": {
      "text/plain": [
       "array([[1, 2, 3],\n",
       "       [4, 5, 6],\n",
       "       [7, 8, 5]])"
      ]
     },
     "execution_count": 64,
     "metadata": {},
     "output_type": "execute_result"
    }
   ],
   "source": [
    "bil2d = np.array([[1,2,3],[4,5,6],[7,8,5]])\n",
    "bil2d"
   ]
  },
  {
   "cell_type": "code",
   "execution_count": 66,
   "id": "97068cf2",
   "metadata": {},
   "outputs": [
    {
     "data": {
      "text/plain": [
       "7"
      ]
     },
     "execution_count": 66,
     "metadata": {},
     "output_type": "execute_result"
    }
   ],
   "source": [
    "bil2d[2][0] #tidak direkomendiasikan"
   ]
  },
  {
   "cell_type": "code",
   "execution_count": 67,
   "id": "320ba1ab",
   "metadata": {},
   "outputs": [
    {
     "data": {
      "text/plain": [
       "array([4, 5, 6])"
      ]
     },
     "execution_count": 67,
     "metadata": {},
     "output_type": "execute_result"
    }
   ],
   "source": [
    "bil2d[1]"
   ]
  },
  {
   "cell_type": "code",
   "execution_count": 68,
   "id": "0568ca30",
   "metadata": {},
   "outputs": [
    {
     "data": {
      "text/plain": [
       "7"
      ]
     },
     "execution_count": 68,
     "metadata": {},
     "output_type": "execute_result"
    }
   ],
   "source": [
    "bil2d[2,0] # yang direkomendasikan"
   ]
  },
  {
   "cell_type": "code",
   "execution_count": 69,
   "id": "deb4f0e8",
   "metadata": {},
   "outputs": [
    {
     "data": {
      "text/plain": [
       "array([5, 6])"
      ]
     },
     "execution_count": 69,
     "metadata": {},
     "output_type": "execute_result"
    }
   ],
   "source": [
    "bil2d[1,1:]"
   ]
  },
  {
   "cell_type": "code",
   "execution_count": 70,
   "id": "869b9c84",
   "metadata": {},
   "outputs": [
    {
     "data": {
      "text/plain": [
       "array([[5, 6]])"
      ]
     },
     "execution_count": 70,
     "metadata": {},
     "output_type": "execute_result"
    }
   ],
   "source": [
    "bil2d[1:2,1:]"
   ]
  },
  {
   "cell_type": "markdown",
   "id": "47777abd",
   "metadata": {},
   "source": [
    "# SLICING dengan bolean di Numpy"
   ]
  },
  {
   "cell_type": "code",
   "execution_count": 71,
   "id": "6ee0a1f5",
   "metadata": {},
   "outputs": [],
   "source": [
    "bil = np.arange(1,11)"
   ]
  },
  {
   "cell_type": "code",
   "execution_count": 72,
   "id": "47181ef0",
   "metadata": {},
   "outputs": [
    {
     "data": {
      "text/plain": [
       "array([ 1,  2,  3,  4,  5,  6,  7,  8,  9, 10])"
      ]
     },
     "execution_count": 72,
     "metadata": {},
     "output_type": "execute_result"
    }
   ],
   "source": [
    "bil"
   ]
  },
  {
   "cell_type": "code",
   "execution_count": null,
   "id": "03905338",
   "metadata": {},
   "outputs": [],
   "source": []
  },
  {
   "cell_type": "code",
   "execution_count": 73,
   "id": "08d50c3f",
   "metadata": {},
   "outputs": [],
   "source": [
    "angkaT = bil > 5"
   ]
  },
  {
   "cell_type": "code",
   "execution_count": 74,
   "id": "f6f3a7e8",
   "metadata": {},
   "outputs": [
    {
     "data": {
      "text/plain": [
       "array([False, False, False, False, False,  True,  True,  True,  True,\n",
       "        True])"
      ]
     },
     "execution_count": 74,
     "metadata": {},
     "output_type": "execute_result"
    }
   ],
   "source": [
    "angkaT"
   ]
  },
  {
   "cell_type": "code",
   "execution_count": 75,
   "id": "23386e0d",
   "metadata": {},
   "outputs": [
    {
     "data": {
      "text/plain": [
       "array([ 6,  7,  8,  9, 10])"
      ]
     },
     "execution_count": 75,
     "metadata": {},
     "output_type": "execute_result"
    }
   ],
   "source": [
    "bil = bil[angkaT] #kita hanya menginginkan yang true saja\n",
    "bil"
   ]
  },
  {
   "cell_type": "code",
   "execution_count": 80,
   "id": "34d29c94",
   "metadata": {},
   "outputs": [
    {
     "data": {
      "text/plain": [
       "array([0., 0., 0., 0., 0.])"
      ]
     },
     "execution_count": 80,
     "metadata": {},
     "output_type": "execute_result"
    }
   ],
   "source": [
    "np.zeros(5)"
   ]
  },
  {
   "cell_type": "markdown",
   "id": "ca7af67c",
   "metadata": {},
   "source": [
    "# OPERASI di Numpy"
   ]
  },
  {
   "cell_type": "code",
   "execution_count": 83,
   "id": "df8c665c",
   "metadata": {},
   "outputs": [
    {
     "data": {
      "text/plain": [
       "array([ 0,  1,  2,  3,  4,  5,  6,  7,  8,  9, 10])"
      ]
     },
     "execution_count": 83,
     "metadata": {},
     "output_type": "execute_result"
    }
   ],
   "source": [
    "coba = np.arange(0,11)\n",
    "coba"
   ]
  },
  {
   "cell_type": "code",
   "execution_count": 84,
   "id": "89d1ec3a",
   "metadata": {},
   "outputs": [
    {
     "data": {
      "text/plain": [
       "array([ 5,  6,  7,  8,  9, 10, 11, 12, 13, 14, 15])"
      ]
     },
     "execution_count": 84,
     "metadata": {},
     "output_type": "execute_result"
    }
   ],
   "source": [
    "coba+5"
   ]
  },
  {
   "cell_type": "code",
   "execution_count": 85,
   "id": "a49903fc",
   "metadata": {},
   "outputs": [],
   "source": [
    "coba_list = [1,2,3,4,5,5,67,7,8,99]"
   ]
  },
  {
   "cell_type": "code",
   "execution_count": 86,
   "id": "8b359949",
   "metadata": {},
   "outputs": [
    {
     "data": {
      "text/plain": [
       "[1, 2, 3, 4, 5, 5, 67, 7, 8, 99, 1, 2, 3, 4, 5, 5, 67, 7, 8, 99]"
      ]
     },
     "execution_count": 86,
     "metadata": {},
     "output_type": "execute_result"
    }
   ],
   "source": [
    "coba_list + coba_list"
   ]
  },
  {
   "cell_type": "code",
   "execution_count": 87,
   "id": "ed43440a",
   "metadata": {},
   "outputs": [
    {
     "data": {
      "text/plain": [
       "array([ 0,  2,  4,  6,  8, 10, 12, 14, 16, 18, 20])"
      ]
     },
     "execution_count": 87,
     "metadata": {},
     "output_type": "execute_result"
    }
   ],
   "source": [
    "coba*2"
   ]
  },
  {
   "cell_type": "code",
   "execution_count": 88,
   "id": "f63e80ca",
   "metadata": {},
   "outputs": [
    {
     "data": {
      "text/plain": [
       "[1, 2, 3, 4, 5, 5, 67, 7, 8, 99, 1, 2, 3, 4, 5, 5, 67, 7, 8, 99]"
      ]
     },
     "execution_count": 88,
     "metadata": {},
     "output_type": "execute_result"
    }
   ],
   "source": [
    "coba_list*2"
   ]
  },
  {
   "cell_type": "code",
   "execution_count": 89,
   "id": "bae10476",
   "metadata": {},
   "outputs": [
    {
     "data": {
      "text/plain": [
       "array([0, 0, 0, 0, 0, 0, 0, 0, 0, 0, 0])"
      ]
     },
     "execution_count": 89,
     "metadata": {},
     "output_type": "execute_result"
    }
   ],
   "source": [
    "coba - coba"
   ]
  },
  {
   "cell_type": "code",
   "execution_count": 90,
   "id": "7b353456",
   "metadata": {},
   "outputs": [
    {
     "data": {
      "text/plain": [
       "array([-100,  -99,  -98,  -97,  -96,  -95,  -94,  -93,  -92,  -91,  -90])"
      ]
     },
     "execution_count": 90,
     "metadata": {},
     "output_type": "execute_result"
    }
   ],
   "source": [
    "coba -100"
   ]
  },
  {
   "cell_type": "code",
   "execution_count": 91,
   "id": "d270159a",
   "metadata": {},
   "outputs": [
    {
     "ename": "ZeroDivisionError",
     "evalue": "division by zero",
     "output_type": "error",
     "traceback": [
      "\u001b[1;31m---------------------------------------------------------------------------\u001b[0m",
      "\u001b[1;31mZeroDivisionError\u001b[0m                         Traceback (most recent call last)",
      "\u001b[1;32m<ipython-input-91-9e1622b385b6>\u001b[0m in \u001b[0;36m<module>\u001b[1;34m\u001b[0m\n\u001b[1;32m----> 1\u001b[1;33m \u001b[1;36m1\u001b[0m\u001b[1;33m/\u001b[0m\u001b[1;36m0\u001b[0m\u001b[1;33m\u001b[0m\u001b[1;33m\u001b[0m\u001b[0m\n\u001b[0m",
      "\u001b[1;31mZeroDivisionError\u001b[0m: division by zero"
     ]
    }
   ],
   "source": [
    "1/0 #klo perhitungan biasa hasilnya akan eror"
   ]
  },
  {
   "cell_type": "code",
   "execution_count": 92,
   "id": "0496612c",
   "metadata": {},
   "outputs": [
    {
     "name": "stderr",
     "output_type": "stream",
     "text": [
      "<ipython-input-92-4b181eb448c2>:1: RuntimeWarning: invalid value encountered in true_divide\n",
      "  coba/coba\n"
     ]
    },
    {
     "data": {
      "text/plain": [
       "array([nan,  1.,  1.,  1.,  1.,  1.,  1.,  1.,  1.,  1.,  1.])"
      ]
     },
     "execution_count": 92,
     "metadata": {},
     "output_type": "execute_result"
    }
   ],
   "source": [
    "coba/coba #akan mengeluarkan nilai tpi ada warning"
   ]
  },
  {
   "cell_type": "code",
   "execution_count": 93,
   "id": "ece4c230",
   "metadata": {},
   "outputs": [
    {
     "data": {
      "text/plain": [
       "array([ 0,  1,  2,  3,  4,  5,  6,  7,  8,  9, 10])"
      ]
     },
     "execution_count": 93,
     "metadata": {},
     "output_type": "execute_result"
    }
   ],
   "source": [
    "coba"
   ]
  },
  {
   "cell_type": "code",
   "execution_count": 94,
   "id": "1d990aac",
   "metadata": {},
   "outputs": [
    {
     "name": "stderr",
     "output_type": "stream",
     "text": [
      "<ipython-input-94-021fa7643746>:1: RuntimeWarning: divide by zero encountered in true_divide\n",
      "  1/coba\n"
     ]
    },
    {
     "data": {
      "text/plain": [
       "array([       inf, 1.        , 0.5       , 0.33333333, 0.25      ,\n",
       "       0.2       , 0.16666667, 0.14285714, 0.125     , 0.11111111,\n",
       "       0.1       ])"
      ]
     },
     "execution_count": 94,
     "metadata": {},
     "output_type": "execute_result"
    }
   ],
   "source": [
    "1/coba #coba punya angka 0, karena 1/0 tidak bisa tpi di numpy ttp bisa dihasilkan gtpi ada warning"
   ]
  },
  {
   "cell_type": "code",
   "execution_count": 95,
   "id": "37af1031",
   "metadata": {},
   "outputs": [
    {
     "data": {
      "text/plain": [
       "array([0.        , 1.        , 1.41421356, 1.73205081, 2.        ,\n",
       "       2.23606798, 2.44948974, 2.64575131, 2.82842712, 3.        ,\n",
       "       3.16227766])"
      ]
     },
     "execution_count": 95,
     "metadata": {},
     "output_type": "execute_result"
    }
   ],
   "source": [
    "np.sqrt(coba) #akar"
   ]
  },
  {
   "cell_type": "code",
   "execution_count": 96,
   "id": "16432ce8",
   "metadata": {},
   "outputs": [
    {
     "data": {
      "text/plain": [
       "array([1.00000000e+00, 2.71828183e+00, 7.38905610e+00, 2.00855369e+01,\n",
       "       5.45981500e+01, 1.48413159e+02, 4.03428793e+02, 1.09663316e+03,\n",
       "       2.98095799e+03, 8.10308393e+03, 2.20264658e+04])"
      ]
     },
     "execution_count": 96,
     "metadata": {},
     "output_type": "execute_result"
    }
   ],
   "source": [
    "np.exp(coba) #exponensial"
   ]
  },
  {
   "cell_type": "code",
   "execution_count": 97,
   "id": "a976a7fb",
   "metadata": {},
   "outputs": [
    {
     "data": {
      "text/plain": [
       "array([ 0,  1,  2,  3,  4,  5,  6,  7,  8,  9, 10])"
      ]
     },
     "execution_count": 97,
     "metadata": {},
     "output_type": "execute_result"
    }
   ],
   "source": [
    "coba"
   ]
  },
  {
   "cell_type": "markdown",
   "id": "83c5ac92",
   "metadata": {},
   "source": [
    "# e =2.7182"
   ]
  },
  {
   "cell_type": "code",
   "execution_count": 98,
   "id": "12d128f8",
   "metadata": {},
   "outputs": [
    {
     "data": {
      "text/plain": [
       "10"
      ]
     },
     "execution_count": 98,
     "metadata": {},
     "output_type": "execute_result"
    }
   ],
   "source": [
    "np.max(coba)"
   ]
  },
  {
   "cell_type": "code",
   "execution_count": 99,
   "id": "8848e772",
   "metadata": {},
   "outputs": [
    {
     "data": {
      "text/plain": [
       "10"
      ]
     },
     "execution_count": 99,
     "metadata": {},
     "output_type": "execute_result"
    }
   ],
   "source": [
    "coba.max()"
   ]
  },
  {
   "cell_type": "code",
   "execution_count": 100,
   "id": "feb63e63",
   "metadata": {},
   "outputs": [
    {
     "data": {
      "text/plain": [
       "0"
      ]
     },
     "execution_count": 100,
     "metadata": {},
     "output_type": "execute_result"
    }
   ],
   "source": [
    "coba.min()"
   ]
  },
  {
   "cell_type": "code",
   "execution_count": 101,
   "id": "ec0fe0d6",
   "metadata": {},
   "outputs": [
    {
     "data": {
      "text/plain": [
       "0"
      ]
     },
     "execution_count": 101,
     "metadata": {},
     "output_type": "execute_result"
    }
   ],
   "source": [
    "np.min(coba)"
   ]
  },
  {
   "cell_type": "code",
   "execution_count": 102,
   "id": "9a2fcf65",
   "metadata": {},
   "outputs": [
    {
     "data": {
      "text/plain": [
       "array([ 0.        ,  0.84147098,  0.90929743,  0.14112001, -0.7568025 ,\n",
       "       -0.95892427, -0.2794155 ,  0.6569866 ,  0.98935825,  0.41211849,\n",
       "       -0.54402111])"
      ]
     },
     "execution_count": 102,
     "metadata": {},
     "output_type": "execute_result"
    }
   ],
   "source": [
    "np.sin(coba) #mencari nilai sin"
   ]
  },
  {
   "cell_type": "code",
   "execution_count": 103,
   "id": "cceeca7d",
   "metadata": {},
   "outputs": [
    {
     "name": "stderr",
     "output_type": "stream",
     "text": [
      "<ipython-input-103-953d5638885c>:1: RuntimeWarning: divide by zero encountered in log\n",
      "  np.log(coba)\n"
     ]
    },
    {
     "data": {
      "text/plain": [
       "array([      -inf, 0.        , 0.69314718, 1.09861229, 1.38629436,\n",
       "       1.60943791, 1.79175947, 1.94591015, 2.07944154, 2.19722458,\n",
       "       2.30258509])"
      ]
     },
     "execution_count": 103,
     "metadata": {},
     "output_type": "execute_result"
    }
   ],
   "source": [
    "np.log(coba)"
   ]
  },
  {
   "cell_type": "code",
   "execution_count": null,
   "id": "10e47c7e",
   "metadata": {},
   "outputs": [],
   "source": []
  }
 ],
 "metadata": {
  "kernelspec": {
   "display_name": "Python 3",
   "language": "python",
   "name": "python3"
  },
  "language_info": {
   "codemirror_mode": {
    "name": "ipython",
    "version": 3
   },
   "file_extension": ".py",
   "mimetype": "text/x-python",
   "name": "python",
   "nbconvert_exporter": "python",
   "pygments_lexer": "ipython3",
   "version": "3.9.1"
  }
 },
 "nbformat": 4,
 "nbformat_minor": 5
}

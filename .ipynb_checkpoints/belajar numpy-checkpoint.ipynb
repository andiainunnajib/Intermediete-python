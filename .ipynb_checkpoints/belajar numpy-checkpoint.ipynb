{
 "cells": [
  {
   "cell_type": "code",
   "execution_count": 1,
   "id": "d4fc314b",
   "metadata": {},
   "outputs": [],
   "source": [
    "import numpy as np"
   ]
  },
  {
   "cell_type": "code",
   "execution_count": null,
   "id": "d7a06f98",
   "metadata": {},
   "outputs": [],
   "source": []
  },
  {
   "cell_type": "code",
   "execution_count": 2,
   "id": "fca4e5e8",
   "metadata": {},
   "outputs": [],
   "source": [
    "#array adalah sebuah matrix 1 dimensi dan dua dimenasi"
   ]
  },
  {
   "cell_type": "code",
   "execution_count": null,
   "id": "30aae271",
   "metadata": {},
   "outputs": [],
   "source": []
  },
  {
   "cell_type": "code",
   "execution_count": 3,
   "id": "6719fa65",
   "metadata": {},
   "outputs": [],
   "source": [
    "angka = [1,2,3]"
   ]
  },
  {
   "cell_type": "code",
   "execution_count": 4,
   "id": "b9590da5",
   "metadata": {},
   "outputs": [],
   "source": [
    "angkanp = np.array(angka)"
   ]
  },
  {
   "cell_type": "code",
   "execution_count": 5,
   "id": "d2620015",
   "metadata": {},
   "outputs": [
    {
     "data": {
      "text/plain": [
       "array([1, 2, 3])"
      ]
     },
     "execution_count": 5,
     "metadata": {},
     "output_type": "execute_result"
    }
   ],
   "source": [
    "angkanp"
   ]
  },
  {
   "cell_type": "code",
   "execution_count": 6,
   "id": "550ea3cb",
   "metadata": {},
   "outputs": [
    {
     "data": {
      "text/plain": [
       "[1, 2, 3, 1, 2, 3, 1, 2, 3]"
      ]
     },
     "execution_count": 6,
     "metadata": {},
     "output_type": "execute_result"
    }
   ],
   "source": [
    "angka*3 #hasilnya bakalan nampilin 3 kali"
   ]
  },
  {
   "cell_type": "code",
   "execution_count": 8,
   "id": "aa85a0cc",
   "metadata": {},
   "outputs": [
    {
     "data": {
      "text/plain": [
       "array([3, 6, 9])"
      ]
     },
     "execution_count": 8,
     "metadata": {},
     "output_type": "execute_result"
    }
   ],
   "source": [
    "#kita mau yang didalam mdi kali 3, jadi vektor 1 dimensi\n",
    "angkanp*3"
   ]
  },
  {
   "cell_type": "code",
   "execution_count": 12,
   "id": "810f9a68",
   "metadata": {},
   "outputs": [
    {
     "data": {
      "text/plain": [
       "[[1, 2, 3], [4, 5, 6], [7, 8, 8]]"
      ]
     },
     "execution_count": 12,
     "metadata": {},
     "output_type": "execute_result"
    }
   ],
   "source": [
    "versilist = [[1,2,3],[4,5,6],[7,8,8]] #cuma menampilkan list of list bukan sebuah matrix\n",
    "versilist"
   ]
  },
  {
   "cell_type": "code",
   "execution_count": 13,
   "id": "8aa99f41",
   "metadata": {},
   "outputs": [
    {
     "data": {
      "text/plain": [
       "array([[1, 2, 3],\n",
       "       [4, 5, 6],\n",
       "       [7, 8, 8]])"
      ]
     },
     "execution_count": 13,
     "metadata": {},
     "output_type": "execute_result"
    }
   ],
   "source": [
    "versinumpy = np.array(versilist) #untuk menampilkan matrix menggunakan numpy\n",
    "versinumpy"
   ]
  },
  {
   "cell_type": "code",
   "execution_count": 16,
   "id": "58f54c70",
   "metadata": {},
   "outputs": [
    {
     "data": {
      "text/plain": [
       "array([0, 1, 2, 3, 4, 5, 6, 7, 8, 9])"
      ]
     },
     "execution_count": 16,
     "metadata": {},
     "output_type": "execute_result"
    }
   ],
   "source": [
    "#mencreate dimana angka 1 dan angka terakhir\n",
    "np.arange(0,10)"
   ]
  },
  {
   "cell_type": "code",
   "execution_count": 18,
   "id": "15e41dc0",
   "metadata": {},
   "outputs": [
    {
     "data": {
      "text/plain": [
       "array([ 0,  2,  4,  6,  8, 10, 12, 14, 16, 18])"
      ]
     },
     "execution_count": 18,
     "metadata": {},
     "output_type": "execute_result"
    }
   ],
   "source": [
    "#MEMBERIKAN jarak antara array\n",
    "np.arange(0,20,2)"
   ]
  },
  {
   "cell_type": "code",
   "execution_count": 19,
   "id": "934c7fd8",
   "metadata": {},
   "outputs": [
    {
     "data": {
      "text/plain": [
       "array([0., 0., 0., 0., 0.])"
      ]
     },
     "execution_count": 19,
     "metadata": {},
     "output_type": "execute_result"
    }
   ],
   "source": [
    "np.zeros(5) #megenerate array 0 sebnayak 5 angka"
   ]
  },
  {
   "cell_type": "code",
   "execution_count": 20,
   "id": "4de29d35",
   "metadata": {},
   "outputs": [
    {
     "data": {
      "text/plain": [
       "array([[0., 0., 0., 0.],\n",
       "       [0., 0., 0., 0.]])"
      ]
     },
     "execution_count": 20,
     "metadata": {},
     "output_type": "execute_result"
    }
   ],
   "source": [
    "#matrix ddua dimensi\n",
    "np.zeros((2,4)) #tuple"
   ]
  },
  {
   "cell_type": "code",
   "execution_count": 21,
   "id": "279b9559",
   "metadata": {},
   "outputs": [
    {
     "data": {
      "text/plain": [
       "array([1., 1., 1., 1., 1.])"
      ]
     },
     "execution_count": 21,
     "metadata": {},
     "output_type": "execute_result"
    }
   ],
   "source": [
    "#memvbangkitkan angka 1\n",
    "np.ones(5)"
   ]
  },
  {
   "cell_type": "code",
   "execution_count": 22,
   "id": "717dd89c",
   "metadata": {},
   "outputs": [
    {
     "data": {
      "text/plain": [
       "array([[1., 1., 1., 1., 1.],\n",
       "       [1., 1., 1., 1., 1.]])"
      ]
     },
     "execution_count": 22,
     "metadata": {},
     "output_type": "execute_result"
    }
   ],
   "source": [
    "np.ones((2,5))"
   ]
  },
  {
   "cell_type": "code",
   "execution_count": 23,
   "id": "8ec38ecc",
   "metadata": {
    "scrolled": true
   },
   "outputs": [
    {
     "data": {
      "text/plain": [
       "array([0.        , 0.88888889, 1.77777778, 2.66666667, 3.55555556,\n",
       "       4.44444444, 5.33333333, 6.22222222, 7.11111111, 8.        ])"
      ]
     },
     "execution_count": 23,
     "metadata": {},
     "output_type": "execute_result"
    }
   ],
   "source": [
    "np.linspace(0,8,10) #membuat array dari 0 sampai 8 dipecah , klo linspacce 8 dimasukkan sebanyak 10 pecahan jarak angkaa satu dan selanjutnya sama"
   ]
  },
  {
   "cell_type": "markdown",
   "id": "bedb0c8d",
   "metadata": {},
   "source": [
    "# Matriks identity"
   ]
  },
  {
   "cell_type": "code",
   "execution_count": 24,
   "id": "b2c23eb8",
   "metadata": {},
   "outputs": [
    {
     "data": {
      "text/plain": [
       "array([[1., 0., 0., 0., 0.],\n",
       "       [0., 1., 0., 0., 0.],\n",
       "       [0., 0., 1., 0., 0.],\n",
       "       [0., 0., 0., 1., 0.],\n",
       "       [0., 0., 0., 0., 1.]])"
      ]
     },
     "execution_count": 24,
     "metadata": {},
     "output_type": "execute_result"
    }
   ],
   "source": [
    "np.eye(5)"
   ]
  },
  {
   "cell_type": "code",
   "execution_count": 25,
   "id": "c851281d",
   "metadata": {},
   "outputs": [
    {
     "data": {
      "text/plain": [
       "array([[1., 0., 0.],\n",
       "       [0., 1., 0.],\n",
       "       [0., 0., 1.]])"
      ]
     },
     "execution_count": 25,
     "metadata": {},
     "output_type": "execute_result"
    }
   ],
   "source": [
    "np.eye(3)"
   ]
  },
  {
   "cell_type": "markdown",
   "id": "8297caf0",
   "metadata": {},
   "source": [
    "# Distribusi uniform"
   ]
  },
  {
   "cell_type": "code",
   "execution_count": 26,
   "id": "a5b32a66",
   "metadata": {},
   "outputs": [
    {
     "data": {
      "text/plain": [
       "array([0.24991947, 0.68035884, 0.53061561, 0.63520496, 0.16564386,\n",
       "       0.91401094, 0.42826563])"
      ]
     },
     "execution_count": 26,
     "metadata": {},
     "output_type": "execute_result"
    }
   ],
   "source": [
    "# bilangan distribusi uniform (0-1)\n",
    "np.random.rand(7)"
   ]
  },
  {
   "cell_type": "code",
   "execution_count": 27,
   "id": "371389af",
   "metadata": {},
   "outputs": [
    {
     "data": {
      "text/plain": [
       "array([[0.86479784, 0.71705451, 0.53957126, 0.43902011],\n",
       "       [0.552034  , 0.76505133, 0.14115633, 0.00462639],\n",
       "       [0.98529324, 0.39471027, 0.38816878, 0.40316273],\n",
       "       [0.87632271, 0.96607969, 0.82841188, 0.23424081],\n",
       "       [0.20905066, 0.11666109, 0.46625904, 0.6375017 ]])"
      ]
     },
     "execution_count": 27,
     "metadata": {},
     "output_type": "execute_result"
    }
   ],
   "source": [
    "# bilangan distribusi unfotrm (0-1) pada matriks 2 dimensi\n",
    "np.random.rand(5,4) #5 baris 4 kolom"
   ]
  },
  {
   "cell_type": "code",
   "execution_count": 29,
   "id": "b1e2b5c0",
   "metadata": {},
   "outputs": [
    {
     "data": {
      "text/plain": [
       "array([-1.32738687, -0.87221184, -0.60558686,  1.37836455,  0.6209224 ,\n",
       "       -0.36178722, -1.75217043, -0.50538962, -1.16462173,  0.60836997])"
      ]
     },
     "execution_count": 29,
     "metadata": {},
     "output_type": "execute_result"
    }
   ],
   "source": [
    "#distribusi normal (gausssian) takhingga sampai tankl hingga\n",
    "np.random.randn(10)"
   ]
  },
  {
   "cell_type": "code",
   "execution_count": 30,
   "id": "d96a4db8",
   "metadata": {},
   "outputs": [
    {
     "data": {
      "text/plain": [
       "array([[ 0.2635791 ,  0.17327917,  0.40767983, -0.77818636],\n",
       "       [-2.69508518, -0.53006823,  1.19365695,  0.0226909 ],\n",
       "       [ 0.2419266 , -1.24077664,  1.35314038,  0.57438296],\n",
       "       [-0.69486777,  0.34072527, -2.68757401,  1.57747746]])"
      ]
     },
     "execution_count": 30,
     "metadata": {},
     "output_type": "execute_result"
    }
   ],
   "source": [
    "# bilangan distribusi normal gaussioan taknhinnga dua dimensi\n",
    "np.random.randn(4,4)"
   ]
  },
  {
   "cell_type": "code",
   "execution_count": 34,
   "id": "50de0c3d",
   "metadata": {},
   "outputs": [],
   "source": [
    "#cara lebih gampangnya langsung importr saja\n",
    "from numpy.random import randn, randint"
   ]
  },
  {
   "cell_type": "code",
   "execution_count": 33,
   "id": "164dd6a6",
   "metadata": {},
   "outputs": [
    {
     "data": {
      "text/plain": [
       "array([[ 0.50305332,  0.95826571, -0.47840914],\n",
       "       [-0.6768637 ,  0.8507021 ,  0.24062694],\n",
       "       [-0.2109353 , -2.29033094,  0.61356276],\n",
       "       [ 0.89494514,  0.39044417, -0.58191921],\n",
       "       [-0.19610795, -1.30506811, -0.00330317],\n",
       "       [ 0.32590792, -0.48368009,  0.36435803]])"
      ]
     },
     "execution_count": 33,
     "metadata": {},
     "output_type": "execute_result"
    }
   ],
   "source": [
    "randn(6,3) #tidak usah tulis depannya lagi"
   ]
  },
  {
   "cell_type": "code",
   "execution_count": 37,
   "id": "035a90ac",
   "metadata": {},
   "outputs": [
    {
     "data": {
      "text/plain": [
       "15"
      ]
     },
     "execution_count": 37,
     "metadata": {},
     "output_type": "execute_result"
    }
   ],
   "source": [
    "randint(0,20)"
   ]
  },
  {
   "cell_type": "code",
   "execution_count": 39,
   "id": "d572b4de",
   "metadata": {},
   "outputs": [
    {
     "data": {
      "text/plain": [
       "array([6, 0])"
      ]
     },
     "execution_count": 39,
     "metadata": {},
     "output_type": "execute_result"
    }
   ],
   "source": [
    "randint(0,10,2)"
   ]
  },
  {
   "cell_type": "code",
   "execution_count": 41,
   "id": "38b6236c",
   "metadata": {},
   "outputs": [
    {
     "data": {
      "text/plain": [
       "array([93, 52, 93, 65, 36, 21,  4, 70, 54, 77, 74, 50, 54, 76, 69, 17, 24,\n",
       "       42, 69, 62])"
      ]
     },
     "execution_count": 41,
     "metadata": {},
     "output_type": "execute_result"
    }
   ],
   "source": [
    "bilangan = randint(0,100,20)\n",
    "bilangan"
   ]
  },
  {
   "cell_type": "code",
   "execution_count": 42,
   "id": "2ff30b34",
   "metadata": {},
   "outputs": [
    {
     "ename": "ValueError",
     "evalue": "cannot reshape array of size 20 into shape (2,1)",
     "output_type": "error",
     "traceback": [
      "\u001b[1;31m---------------------------------------------------------------------------\u001b[0m",
      "\u001b[1;31mValueError\u001b[0m                                Traceback (most recent call last)",
      "\u001b[1;32m<ipython-input-42-a9b2d91abd54>\u001b[0m in \u001b[0;36m<module>\u001b[1;34m\u001b[0m\n\u001b[0;32m      1\u001b[0m \u001b[1;31m#mengubah ukuran matriks haru pecahan dari 20 karena (0,100,20) karena jumlah angka 20 misal : 4x5\u001b[0m\u001b[1;33m\u001b[0m\u001b[1;33m\u001b[0m\u001b[1;33m\u001b[0m\u001b[0m\n\u001b[1;32m----> 2\u001b[1;33m \u001b[0mbilangan\u001b[0m\u001b[1;33m.\u001b[0m\u001b[0mreshape\u001b[0m\u001b[1;33m(\u001b[0m\u001b[1;36m2\u001b[0m\u001b[1;33m,\u001b[0m\u001b[1;36m1\u001b[0m\u001b[1;33m)\u001b[0m\u001b[1;33m\u001b[0m\u001b[1;33m\u001b[0m\u001b[0m\n\u001b[0m",
      "\u001b[1;31mValueError\u001b[0m: cannot reshape array of size 20 into shape (2,1)"
     ]
    }
   ],
   "source": [
    "#mengubah ukuran matriks haru pecahan dari 20 karena (0,100,20) karena jumlah angka 20 misal : 4x5\n",
    "bilangan.reshape(2,1)"
   ]
  },
  {
   "cell_type": "code",
   "execution_count": 43,
   "id": "24b5ef00",
   "metadata": {},
   "outputs": [
    {
     "data": {
      "text/plain": [
       "array([[93, 52, 93, 65, 36],\n",
       "       [21,  4, 70, 54, 77],\n",
       "       [74, 50, 54, 76, 69],\n",
       "       [17, 24, 42, 69, 62]])"
      ]
     },
     "execution_count": 43,
     "metadata": {},
     "output_type": "execute_result"
    }
   ],
   "source": [
    "bilangan.reshape(4,5)"
   ]
  },
  {
   "cell_type": "code",
   "execution_count": null,
   "id": "d5ae0b20",
   "metadata": {},
   "outputs": [],
   "source": []
  }
 ],
 "metadata": {
  "kernelspec": {
   "display_name": "Python 3",
   "language": "python",
   "name": "python3"
  },
  "language_info": {
   "codemirror_mode": {
    "name": "ipython",
    "version": 3
   },
   "file_extension": ".py",
   "mimetype": "text/x-python",
   "name": "python",
   "nbconvert_exporter": "python",
   "pygments_lexer": "ipython3",
   "version": "3.8.8"
  }
 },
 "nbformat": 4,
 "nbformat_minor": 5
}
